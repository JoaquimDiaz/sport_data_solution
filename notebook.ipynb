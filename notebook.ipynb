{
 "cells": [
  {
   "cell_type": "code",
   "execution_count": 1,
   "id": "00793021",
   "metadata": {},
   "outputs": [],
   "source": [
    "import polars as pl\n",
    "import psycopg\n",
    "import config\n",
    "import json"
   ]
  },
  {
   "cell_type": "code",
   "execution_count": 2,
   "id": "f8db111f",
   "metadata": {},
   "outputs": [],
   "source": [
    "def build_uri(user, password, db, server = '127.0.0.1', port = 5433):\n",
    "    return f\"postgresql://{user}:{password}@{server}:{port}/{db}\"\n",
    "\n",
    "def build_query(table: str):\n",
    "    return f\"\"\"SELECT * FROM {table}\"\"\"\n",
    "    "
   ]
  },
  {
   "cell_type": "markdown",
   "id": "4f0fd0ea",
   "metadata": {},
   "source": []
  },
  {
   "cell_type": "code",
   "execution_count": 3,
   "id": "79624331",
   "metadata": {},
   "outputs": [],
   "source": [
    "query_sport = f\"\"\"\n",
    "    SELECT \n",
    "        id_salarie,\n",
    "        date_debut,\n",
    "        date_fin,\n",
    "        sport_type,\n",
    "        distance_metre\n",
    "    FROM \n",
    "        {config.SPORT_TABLE}\"\"\"\n",
    "\n",
    "\n",
    "query_rh = f\"\"\"\n",
    "    SELECT\n",
    "        id_salarie,\n",
    "        nom,\n",
    "        prenom,\n",
    "        salaire_brut,\n",
    "        moyen_de_deplacement,\n",
    "        pratique_d_un_sport,\n",
    "        work_distance\n",
    "    FROM\n",
    "        {config.RH_TABLE}\n",
    "    \"\"\""
   ]
  },
  {
   "cell_type": "code",
   "execution_count": 4,
   "id": "03a5b0cb",
   "metadata": {},
   "outputs": [],
   "source": [
    "uri = build_uri(\n",
    "    user = config.POSTGRES_USER, \n",
    "    password = config.POSTGRES_PASSWORD, \n",
    "    db = config.POSTGRES_DB,\n",
    "    port = config.POSTGRES_PORT\n",
    "    )\n",
    "\n",
    "with psycopg.connect(uri) as pg_conn:\n",
    "    df_sport = pl.read_database(query_sport, pg_conn)\n",
    "    df_rh = pl.read_database(query_rh, pg_conn)\n"
   ]
  },
  {
   "cell_type": "code",
   "execution_count": 5,
   "id": "a7ef8f76",
   "metadata": {},
   "outputs": [
    {
     "name": "stdout",
     "output_type": "stream",
     "text": [
      "Rows: 161\n",
      "Columns: 7\n",
      "$ id_salarie           <i64> 59019, 19841, 56482, 21886, 81001, 17757, 17036, 36913, 79006, 62296\n",
      "$ nom                  <str> 'Colin', 'Ledoux', 'Dumont', 'Toussaint', 'Bailly', 'Bazin', 'Jacques', 'Pons', 'Rousset', 'Chauvin'\n",
      "$ prenom               <str> 'Audrey', 'Monique', 'Michelle', 'Judith', 'Michelle', 'Margaret', 'Julien', 'Brigitte', 'Jérome', 'Zakaria'\n",
      "$ salaire_brut         <i64> 30940, 74360, 51390, 70320, 46870, 31460, 72480, 59790, 29240, 68680\n",
      "$ moyen_de_deplacement <str> 'Transports en commun', 'véhicule thermique/électrique', 'véhicule thermique/électrique', 'Marche/running', 'Marche/running', 'Vélo/Trottinette/Autres', 'véhicule thermique/électrique', 'Transports en commun', 'véhicule thermique/électrique', 'Vélo/Trottinette/Autres'\n",
      "$ pratique_d_un_sport  <str> None, None, 'Tennis', None, None, 'Badminton', 'Escalade', None, None, None\n",
      "$ work_distance        <i64> 26707, 22640, 48717, 1628, 803, 5173, 38546, 21728, 21924, 9116\n",
      "\n"
     ]
    }
   ],
   "source": [
    "df_rh.glimpse()"
   ]
  },
  {
   "cell_type": "code",
   "execution_count": null,
   "id": "22fb2d24",
   "metadata": {},
   "outputs": [],
   "source": [
    "df_rh = df_rh.with_columns(\n",
    "    pl.when(\n",
    "        ((pl.col(\"work_distance\") > 15000) & (pl.col(\"moyen_de_deplacement\") == \"Marche/running\"))\n",
    "        | ((pl.col(\"work_distance\") > 25000) & (pl.col(\"moyen_de_deplacement\") == \"Vélo/Trottinette/Autres\"))\n",
    "    )\n",
    "    .then(pl.lit(\"wrong_transport\"))\n",
    "    .otherwise(pl.col(\"moyen_de_deplacement\"))\n",
    "    .alias(\"moyen_de_deplacement\")\n",
    ")"
   ]
  },
  {
   "cell_type": "code",
   "execution_count": 16,
   "id": "5ee98032",
   "metadata": {},
   "outputs": [
    {
     "data": {
      "text/html": [
       "<div><style>\n",
       ".dataframe > thead > tr,\n",
       ".dataframe > tbody > tr {\n",
       "  text-align: right;\n",
       "  white-space: pre-wrap;\n",
       "}\n",
       "</style>\n",
       "<small>shape: (0, 11)</small><table border=\"1\" class=\"dataframe\"><thead><tr><th>id_salarie</th><th>nom</th><th>prenom</th><th>moyen_de_deplacement</th><th>pratique_d_un_sport</th><th>work_distance</th><th>prime_sportive</th><th>montant_prime</th><th>nb_activites_2025</th><th>prime_cp</th><th>nb_prime_cp</th></tr><tr><td>str</td><td>str</td><td>str</td><td>str</td><td>str</td><td>i64</td><td>bool</td><td>f64</td><td>u32</td><td>bool</td><td>i32</td></tr></thead><tbody></tbody></table></div>"
      ],
      "text/plain": [
       "shape: (0, 11)\n",
       "┌────────────┬─────┬────────┬─────────────┬───┬─────────────┬─────────────┬──────────┬─────────────┐\n",
       "│ id_salarie ┆ nom ┆ prenom ┆ moyen_de_de ┆ … ┆ montant_pri ┆ nb_activite ┆ prime_cp ┆ nb_prime_cp │\n",
       "│ ---        ┆ --- ┆ ---    ┆ placement   ┆   ┆ me          ┆ s_2025      ┆ ---      ┆ ---         │\n",
       "│ str        ┆ str ┆ str    ┆ ---         ┆   ┆ ---         ┆ ---         ┆ bool     ┆ i32         │\n",
       "│            ┆     ┆        ┆ str         ┆   ┆ f64         ┆ u32         ┆          ┆             │\n",
       "╞════════════╪═════╪════════╪═════════════╪═══╪═════════════╪═════════════╪══════════╪═════════════╡\n",
       "└────────────┴─────┴────────┴─────────────┴───┴─────────────┴─────────────┴──────────┴─────────────┘"
      ]
     },
     "execution_count": 16,
     "metadata": {},
     "output_type": "execute_result"
    }
   ],
   "source": [
    "df_rh.filter(pl.col(\"moyen_de_deplacement\") == 'wrong_transport')"
   ]
  },
  {
   "cell_type": "code",
   "execution_count": 6,
   "id": "10c04c96",
   "metadata": {},
   "outputs": [],
   "source": [
    "df_rh = df_rh.with_columns(\n",
    "    pl.col(\"moyen_de_deplacement\")\n",
    "    .is_in([\"Marche/running\", \"Vélo/Trottinette/Autres\"])\n",
    "    .alias(\"prime_sportive\")\n",
    ")"
   ]
  },
  {
   "cell_type": "code",
   "execution_count": 7,
   "id": "b2139b66",
   "metadata": {},
   "outputs": [],
   "source": [
    "df_rh = df_rh.with_columns([\n",
    "    pl.when(pl.col(\"moyen_de_deplacement\").is_in([\"Marche/running\", \"Vélo/Trottinette/Autres\"]))\n",
    "      .then(pl.col(\"salaire_brut\") * config.TAUX_PRIME)        \n",
    "      .otherwise(0)\n",
    "      .alias(\"montant_prime\")\n",
    "])"
   ]
  },
  {
   "cell_type": "code",
   "execution_count": 8,
   "id": "d2df059e",
   "metadata": {},
   "outputs": [],
   "source": [
    "df_rh = df_rh.drop(\"salaire_brut\")"
   ]
  },
  {
   "cell_type": "code",
   "execution_count": 9,
   "id": "3ccfa65c",
   "metadata": {},
   "outputs": [],
   "source": [
    "df_2025 = df_sport.filter(pl.col(\"date_debut\").dt.year() == 2025)\n",
    "\n",
    "df_count_2025 = (\n",
    "    df_2025\n",
    "    .group_by(\"id_salarie\")\n",
    "    .agg(pl.len().alias(\"nb_activites_2025\"))\n",
    ")\n"
   ]
  },
  {
   "cell_type": "code",
   "execution_count": 10,
   "id": "ce926588",
   "metadata": {},
   "outputs": [],
   "source": [
    "df_rh = df_rh.with_columns(pl.col(\"id_salarie\").cast(pl.Utf8))\n",
    "df_count_2025 = df_count_2025.with_columns(pl.col(\"id_salarie\").cast(pl.Utf8))\n",
    "\n",
    "df_rh = df_rh.join(\n",
    "    df_count_2025,\n",
    "    on=\"id_salarie\",\n",
    "    how=\"left\"\n",
    ").with_columns(\n",
    "    pl.when(pl.col(\"nb_activites_2025\") > 15)\n",
    "      .then(True)\n",
    "      .otherwise(False)\n",
    "      .alias(\"prime_cp\")\n",
    ").with_columns(\n",
    "    pl.when(pl.col(\"prime_cp\") == True)\n",
    "      .then(config.NB_CP_PRIME)\n",
    "      .otherwise(0)\n",
    "      .alias(\"nb_prime_cp\")\n",
    ")"
   ]
  },
  {
   "cell_type": "code",
   "execution_count": 11,
   "id": "51374758",
   "metadata": {},
   "outputs": [
    {
     "data": {
      "text/html": [
       "<div><style>\n",
       ".dataframe > thead > tr,\n",
       ".dataframe > tbody > tr {\n",
       "  text-align: right;\n",
       "  white-space: pre-wrap;\n",
       "}\n",
       "</style>\n",
       "<small>shape: (1, 11)</small><table border=\"1\" class=\"dataframe\"><thead><tr><th>id_salarie</th><th>nom</th><th>prenom</th><th>moyen_de_deplacement</th><th>pratique_d_un_sport</th><th>work_distance</th><th>prime_sportive</th><th>montant_prime</th><th>nb_activites_2025</th><th>prime_cp</th><th>nb_prime_cp</th></tr><tr><td>u32</td><td>u32</td><td>u32</td><td>u32</td><td>u32</td><td>u32</td><td>u32</td><td>u32</td><td>u32</td><td>u32</td><td>u32</td></tr></thead><tbody><tr><td>0</td><td>0</td><td>0</td><td>0</td><td>66</td><td>0</td><td>0</td><td>0</td><td>66</td><td>0</td><td>0</td></tr></tbody></table></div>"
      ],
      "text/plain": [
       "shape: (1, 11)\n",
       "┌────────────┬─────┬────────┬─────────────┬───┬─────────────┬─────────────┬──────────┬─────────────┐\n",
       "│ id_salarie ┆ nom ┆ prenom ┆ moyen_de_de ┆ … ┆ montant_pri ┆ nb_activite ┆ prime_cp ┆ nb_prime_cp │\n",
       "│ ---        ┆ --- ┆ ---    ┆ placement   ┆   ┆ me          ┆ s_2025      ┆ ---      ┆ ---         │\n",
       "│ u32        ┆ u32 ┆ u32    ┆ ---         ┆   ┆ ---         ┆ ---         ┆ u32      ┆ u32         │\n",
       "│            ┆     ┆        ┆ u32         ┆   ┆ u32         ┆ u32         ┆          ┆             │\n",
       "╞════════════╪═════╪════════╪═════════════╪═══╪═════════════╪═════════════╪══════════╪═════════════╡\n",
       "│ 0          ┆ 0   ┆ 0      ┆ 0           ┆ … ┆ 0           ┆ 66          ┆ 0        ┆ 0           │\n",
       "└────────────┴─────┴────────┴─────────────┴───┴─────────────┴─────────────┴──────────┴─────────────┘"
      ]
     },
     "execution_count": 11,
     "metadata": {},
     "output_type": "execute_result"
    }
   ],
   "source": [
    "df_rh.null_count()"
   ]
  },
  {
   "cell_type": "code",
   "execution_count": 12,
   "id": "1ce7307c",
   "metadata": {},
   "outputs": [
    {
     "name": "stdout",
     "output_type": "stream",
     "text": [
      "Rows: 9818\n",
      "Columns: 5\n",
      "$ id_salarie              <str> '56482', '56482', '56482', '56482', '56482', '56482', '56482', '56482', '56482', '56482'\n",
      "$ date_debut     <datetime[μs]> 2024-06-20 08:08:00, 2024-06-19 08:11:00, 2024-06-24 17:36:00, 2024-06-23 14:51:00, 2024-06-24 18:39:00, 2024-07-08 07:24:00, 2024-07-17 19:10:00, 2024-07-22 14:10:00, 2024-08-05 10:20:00, 2024-08-12 06:06:00\n",
      "$ date_fin       <datetime[μs]> 2024-06-20 09:36:00, 2024-06-19 09:17:00, 2024-06-24 18:55:00, 2024-06-23 16:17:00, 2024-06-24 19:28:00, 2024-07-08 09:17:00, 2024-07-17 20:53:00, 2024-07-22 15:01:00, 2024-08-05 12:05:00, 2024-08-12 07:47:00\n",
      "$ sport_type              <str> 'Tennis', 'Tennis', 'Tennis', 'Tennis', 'Tennis', 'Tennis', 'Tennis', 'Tennis', 'Tennis', 'Tennis'\n",
      "$ distance_metre          <i64> 0, 0, 0, 0, 0, 0, 0, 0, 0, 0\n",
      "\n"
     ]
    }
   ],
   "source": [
    "df_sport.glimpse()"
   ]
  },
  {
   "cell_type": "code",
   "execution_count": 13,
   "id": "22fb9545",
   "metadata": {},
   "outputs": [
    {
     "data": {
      "text/plain": [
       "818"
      ]
     },
     "execution_count": 13,
     "metadata": {},
     "output_type": "execute_result"
    }
   ],
   "source": [
    "df_rh.write_database(\n",
    "    table_name=config.PBI_RH_TABLE,\n",
    "    connection=uri,\n",
    "    if_table_exists='replace'\n",
    ")\n",
    "\n",
    "df_sport.write_database(\n",
    "    table_name=config.PBI_SPORT_TABLE,\n",
    "    connection=uri,\n",
    "    if_table_exists='replace'\n",
    ")"
   ]
  }
 ],
 "metadata": {
  "kernelspec": {
   "display_name": "12-sport-data",
   "language": "python",
   "name": "python3"
  },
  "language_info": {
   "codemirror_mode": {
    "name": "ipython",
    "version": 3
   },
   "file_extension": ".py",
   "mimetype": "text/x-python",
   "name": "python",
   "nbconvert_exporter": "python",
   "pygments_lexer": "ipython3",
   "version": "3.13.2"
  }
 },
 "nbformat": 4,
 "nbformat_minor": 5
}
